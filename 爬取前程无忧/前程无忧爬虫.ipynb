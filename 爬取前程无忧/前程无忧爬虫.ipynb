{
 "cells": [
  {
   "cell_type": "code",
   "execution_count": 1,
   "metadata": {
    "ExecuteTime": {
     "end_time": "2019-02-22T07:15:24.106083Z",
     "start_time": "2019-02-22T07:15:23.947227Z"
    }
   },
   "outputs": [],
   "source": [
    "import re\n",
    "import requests\n",
    "from lxml import etree\n",
    "import csv\n",
    "import time\n",
    "import random"
   ]
  },
  {
   "cell_type": "code",
   "execution_count": 2,
   "metadata": {
    "ExecuteTime": {
     "end_time": "2019-02-22T07:15:24.708964Z",
     "start_time": "2019-02-22T07:15:24.696997Z"
    }
   },
   "outputs": [
    {
     "data": {
      "text/plain": [
       "42"
      ]
     },
     "execution_count": 2,
     "metadata": {},
     "output_type": "execute_result"
    }
   ],
   "source": [
    "fp = open('51job.csv','wt',newline='',encoding='GBK',errors='ignore')\n",
    "writer = csv.writer(fp)\n",
    "'''title,salary,company,companyinfo,companyplace,place,exp,edu,num,time,info'''\n",
    "writer.writerow(('职位','薪资','公司','公司信息','公司地址','地区','工作经验','学历','人数','时间','岗位信息'))"
   ]
  },
  {
   "cell_type": "code",
   "execution_count": 3,
   "metadata": {
    "ExecuteTime": {
     "end_time": "2019-02-22T07:15:26.183396Z",
     "start_time": "2019-02-22T07:15:26.176375Z"
    }
   },
   "outputs": [],
   "source": [
    "def parseInfo(url):\n",
    "    # res = requests.get(url)\n",
    "    # 移动适配\n",
    "    # u = re.findall('<meta name=\"mobile-agent\" content=\"format=html5;(.*?)\">', res.text)\n",
    "    #               <meta name=\"mobile-agent\" content=\"format=html5;https://m.51job.com/search/jobdetail.php?jobid=109087803\">\n",
    "\n",
    "    headers = {\n",
    "        'User-Agent': 'Opera/9.80 (Android 2.3.4; Linux; Opera Mobi/ADR-1301071546) Presto/2.11.355 Version/12.10'\n",
    "    }\n",
    "    res = requests.get(url, headers=headers)\n",
    "    res.encoding = 'utf-8'\n",
    "\n",
    "    selector = etree.HTML(res.text)\n",
    "\n",
    "    title = selector.xpath('//*[@id=\"pageContent\"]/div[1]/div[1]/p/text()')\n",
    "    salary = selector.xpath('//*[@id=\"pageContent\"]/div[1]/p/text()')\n",
    "    company = selector.xpath('//*[@id=\"pageContent\"]/div[2]/a[1]/p/text()')\n",
    "    companyinfo = selector.xpath('//*[@id=\"pageContent\"]/div[2]/a[1]/div/text()')\n",
    "    companyplace = selector.xpath('//*[@id=\"pageContent\"]/div[2]/a[2]/span/text()')\n",
    "    place = selector.xpath('//*[@id=\"pageContent\"]/div[1]/div[1]/em/text()')\n",
    "    exp = selector.xpath('//*[@id=\"pageContent\"]/div[1]/div[2]/span[2]/text()')\n",
    "    edu = selector.xpath('//*[@id=\"pageContent\"]/div[1]/div[2]/span[3]/text()')\n",
    "    num = selector.xpath('//*[@id=\"pageContent\"]/div[1]/div[2]/span[1]/text()')\n",
    "    time = selector.xpath('//*[@id=\"pageContent\"]/div[1]/div[1]/span/text()')\n",
    "    info = selector.xpath('string(//*[@id=\"pageContent\"]/div[3]/div[2]/article)')\n",
    "    info = str(info).strip()\n",
    "\n",
    "    print(title,salary,company,companyinfo,companyplace,place,exp,edu,num,time,info)\n",
    "    writer.writerow((title,salary,company,companyinfo,companyplace,place,exp,edu,num,time,info))"
   ]
  },
  {
   "cell_type": "code",
   "execution_count": 4,
   "metadata": {
    "ExecuteTime": {
     "end_time": "2019-02-22T07:15:27.499480Z",
     "start_time": "2019-02-22T07:15:27.493498Z"
    }
   },
   "outputs": [],
   "source": [
    "def getUrl(url):\n",
    "    print('New page')\n",
    "    res = requests.get(url)\n",
    "    res.encoding = 'GBK'\n",
    "    #print(res.text)\n",
    "    if res.status_code == requests.codes.ok:\n",
    "        selector = etree.HTML(res.text)\n",
    "        urls = selector.xpath('//*[@id=\"resultList\"]/div/p/span/a/@href')\n",
    "        #                      //*[@id=\"resultList\"]/div/p/span/a\n",
    "        print(urls)\n",
    "        for url in urls:\n",
    "            parseInfo(url)\n",
    "            time.sleep(random.randrange(1, 4))"
   ]
  },
  {
   "cell_type": "code",
   "execution_count": 5,
   "metadata": {
    "ExecuteTime": {
     "end_time": "2019-02-22T07:46:06.692007Z",
     "start_time": "2019-02-22T07:16:03.413543Z"
    }
   },
   "outputs": [
    {
     "name": "stdout",
     "output_type": "stream",
     "text": [
      "New page\n",
      "['https://jobs.51job.com/suzhou-gyyq/98411513.html?s=01&t=0', 'https://jobs.51job.com/guangzhou/110705498.html?s=01&t=0', 'https://jobs.51job.com/shanghai-pdxq/105991741.html?s=01&t=0', 'https://jobs.51job.com/hangzhou/110711838.html?s=01&t=0', 'https://jobs.51job.com/hefei-gxq/109852456.html?s=01&t=0', 'https://jobs.51job.com/chongqing-yzq/110710478.html?s=01&t=0', 'https://jobs.51job.com/shanghai-pdxq/110710321.html?s=01&t=0', 'https://jobs.51job.com/shanghai-pdxq/110710041.html?s=01&t=0', 'https://jobs.51job.com/hangzhou-jgq/110708205.html?s=01&t=0', 'https://jobs.51job.com/xian-ytq/109877970.html?s=01&t=0', 'https://jobs.51job.com/hefei-bhq/110703772.html?s=01&t=0', 'https://jobs.51job.com/wuxi-bhq/110704571.html?s=01&t=0', 'https://jobs.51job.com/beijing-xcq/99721436.html?s=01&t=0', 'https://jobs.51job.com/changsha-ylq/110702608.html?s=01&t=0', 'https://jobs.51job.com/shanghai-pdxq/110702424.html?s=01&t=0', 'https://jobs.51job.com/hefei-zwq/109456666.html?s=01&t=0', 'http://career.hotwind.net/sc/show_job_detail.php?jobid=97683820', 'https://jobs.51job.com/xian/110446546.html?s=01&t=0', 'https://jobs.51job.com/changsha-ylq/107752126.html?s=01&t=0', 'https://jobs.51job.com/shanghai-sjq/104851005.html?s=01&t=0', 'https://jobs.51job.com/xian-hyq/110692777.html?s=01&t=0', 'https://jobs.51job.com/shanghai-cnq/107289629.html?s=01&t=0', 'https://jobs.51job.com/yiwu/110627735.html?s=01&t=0', 'https://jobs.51job.com/hefei-jkq/109904825.html?s=01&t=0', 'https://jobs.51job.com/shanghai/108326727.html?s=01&t=0', 'https://jobs.51job.com/jinan/105716618.html?s=01&t=0', 'https://jobs.51job.com/beijing-cpq/110688494.html?s=01&t=0', 'https://jobs.51job.com/jinan-gxq/110688400.html?s=01&t=0', 'https://jobs.51job.com/wuhan/108904989.html?s=01&t=0', 'https://jobs.51job.com/nanjing-yhtq/110394687.html?s=01&t=0', 'https://jobs.51job.com/zhejiangsheng/110646623.html?s=01&t=0', 'https://jobs.51job.com/guangzhou-byq/110682328.html?s=01&t=0', 'https://jobs.51job.com/nanjing/110015129.html?s=01&t=0', 'https://jobs.51job.com/xian-gxjs/110632105.html?s=01&t=0', 'https://jobs.51job.com/beijing-cyq/109313276.html?s=01&t=0', 'https://jobs.51job.com/shanghai-hpq/110636613.html?s=01&t=0', 'https://jobs.51job.com/hangzhou-bjq/110684229.html?s=01&t=0', 'https://jobs.51job.com/shenzhen-ftq/110466975.html?s=01&t=0', 'https://jobs.51job.com/guangzhou-thq/110210504.html?s=01&t=0', 'https://jobs.51job.com/nanjing-yhtq/110090733.html?s=01&t=0', 'https://jobs.51job.com/kunming-gdq/97200469.html?s=01&t=0', 'https://jobs.51job.com/beijing-ftq/110652951.html?s=01&t=0', 'https://jobs.51job.com/shenzhen-nsq/110685089.html?s=01&t=0', 'https://jobs.51job.com/shenzhen-nsq/110683358.html?s=01&t=0', 'https://jobs.51job.com/shanghai-pdxq/105254303.html?s=01&t=0', 'https://jobs.51job.com/nanjing/103189656.html?s=01&t=0', 'https://jobs.51job.com/shanghai-ptq/108504520.html?s=01&t=0', 'https://jobs.51job.com/shanghai-ypq/110677735.html?s=01&t=0', 'https://jobs.51job.com/shenzhen/110667362.html?s=01&t=0', 'https://jobs.51job.com/beijing-cyq/106220248.html?s=01&t=0']\n",
      "['大数据开发工程师'] ['1-2.5万/月'] ['苏州瑞翼信息技术有限公司'] ['民营公司| 150-500人| 通信/电信运营、增值服务 互联网/电子商务'] ['上班地址 : 苏州工业园区星湖街328号 创意产业园6-301单元'] ['苏州-工业园区'] ['本科'] [] ['4人'] ['2019-02-22'] 岗位职责：1、基于Hadoop/Spark的大数据处理和分析平台的架构和开发；2、负责分析新的数据需求, 完成数据处理的设计文档和实现；3、负责数据处理程序设计框架改善, 数据处理性能优化, 系统数据处理的能力提高。 任职要求：1、本科学历须211院校及以上，硕士及以上学历不限院校， 计算机软件及相关专业；2、1年以上工作经验，精通Java，Python或者scala，熟练掌握基础算法，数据结构和linux开发环境；3、了解数据挖掘、机器学习、并行计算相关理论；4、有hadoop平台项目开发经验， 熟悉Hadoop、HBase、Hive、Spark、Mapreduce、Flume、Kafka、Storm、ETL等相关技术或者工具至少3个以上；5、有风控、推荐、人群画像等领域模型构建和调优工作经验者优先；6、学习能力强，喜欢研究新技术，有团队观念，具备独立解决问题的能力。\n",
      "['大数据开发工程师'] ['1-1.5万/月'] ['广州优亿信息科技有限公司'] ['民营公司| 50-150人| 通信/电信/网络设备 通信/电信运营、增值服务'] ['上班地址 : 越秀区广东广播中心大楼'] ['广州'] ['2年工作经验'] ['本科'] ['2人'] ['2019-02-22'] 岗位职责:1.按照项目计划，配合项目经理，按时提交高质量代码，完成开发任务；2.规范文档的编写、维护，以及其他与项目相关工作；3.及时反馈开发中遇到的难点问题，沟通并寻求解决方案，按阶段有计划地完成开发任务；4.对系统进行单元测试，并配合测试人员进行产品测试和验收工作，并审核测试用例等；5.对现有系统的设计代码进行复核，根据业务部门的需求对现有系统进行调整、优化、功能扩展。6.有独立工作能力，工作踏实认真，以及较强的团队协作精神。任职资格:1、计算机等相关专业本科以上学历，2年以上JAVA项目开发经验；2、熟练使用SQL，熟悉Mysql、MongoDB、Hive等数据库技术的基本操作及原理；3、有运营商（移动、联通、电信、广电）BOSS系统对接经验者优先；4、熟悉Hadoop(MapReduce/HDFS)、HBase、Spark、Strom等开源大数据技术的开发与部署者优先；5、熟悉常见机器学习算法（如逻辑回归、SVM、神经网络、决策树、贝叶斯等）者优先。6、有很强的理解具体业务的能力，针对不同业务能有相应的处理方法；7、较强的逻辑思维能力，具有良好的自学能力和解决问题的能力；\n",
      "['(DSP项目)数据开发工程师'] ['1.5-2.5万/月'] ['上海高欣计算机系统有限公司'] ['民营公司| 500-1000人| 计算机软件 互联网/电子商务'] ['上班地址 : 银冬路491号2幢'] ['上海-浦东新区'] ['2年工作经验'] ['本科'] ['1人'] ['2019-02-22'] 1. 参与/负责数据仓库ETL（数据抽取、加载、清洗、转换）处理任务的设计和开发工作2. 参与/负责数据报表的设计和开发工作3. 参与/支持相关BI业务分析的开发和实施工作 岗位要求：1.掌握数据库基本知识,对数据库内部结构有较深理解和认识2.精通mysql/oracle/hbase等数据库,具有数据模型设计的能力3.精通sql语句编写,具有1年以上基于数据库开发的经验4.具备数据挖掘,数据迁移,ETL处理,sql语句优化,海量数据处理的工作经验5.熟悉Linux操作系统常用命令6.工作严谨细致,有责任心,勤奋踏实,善于思考问题,具有团队合作精神，能承受一定的工作压力；7.有良好的人际关系和沟通能力，有大型项目经验优先；8.熟悉广告业务的优先9.熟悉hadoop使用经验优先\n",
      "['数据开发工程师'] ['3-8千/月'] ['杭州煎饼网络技术有限公司'] ['民营公司| 150-500人| 互联网/电子商务 金融/投资/证券'] ['上班地址 : 西湖区双龙街199号金色西溪B座6层'] ['杭州'] ['本科'] [] ['1人'] ['2019-02-22'] 岗位职责：1、维护爬虫程序2、研究反爬策略3、维护数据分析处理程序4、参与部分大数据开发职位要求：1、熟悉JavaScript、Node.JS，其他语言也可。2、有爬虫经验或熟悉Http协议优先。3、了解Node.JS后台开发或大数据技术加分。4、有反爬绕过经验优先。5、了解掌握Linux命令加分。6、计算机基础知识扎实加分。\n",
      "['大数据开发工程师'] ['0.5-1万/月'] ['合肥斡亿信息科技有限公司'] ['民营公司| 50-150人| 计算机软件 互联网/电子商务'] ['上班地址 : 创新大道2800号创新产业园二期F4楼4层'] ['合肥-高新区'] ['2年工作经验'] ['本科'] ['3人'] ['2019-02-22'] 岗位职责：1、负责各种网络数据的采集、清洗、整合工作；2、负责大数据的分布式存储和管理工作；3、负责大数据项目的开发、维护工作；4、负责部分设计、开发文档的编写工作。任职资格：1、计算机、通信、数学相关专业本科及以上、2年左右的工作经验； 2、熟悉java，python 有较强的工程能力； 3、熟悉Hadoop(HDFS/MapReduce/Hive)、Spark、HBase、Kafka、Flume等常见框架；4、具有较强的学习能力，有团队观念，能独立解决问题；5、具有金融行业背景优先。薪资待遇：1、基本工资+绩效工资+项目提成；2、五险一金、双休、餐补、员工活动、带薪年假、定期员工活动等；3、近2000平开放式办公，管理扁平化，员工年轻化（90后的地盘），团队氛围轻松，部门之间高度协调配合；深厚的政府和运营商合作关系，资源开放，晋升发展快；4、管理+技能双向晋升，为每位员工提供广阔的职业发展平台。\n",
      "['大数据开发工程师'] ['0.8-1.3万/月'] ['重庆森鑫炬科技有限公司'] ['民营公司| 50-150人| 计算机软件'] ['上班地址 : 上清寺环球互联网广场13楼ABCF座'] ['重庆-渝中区'] [] [] ['1人'] ['2019-02-22'] 岗位职责：1.负责大数据平台的开发、维护工作；2.负责大数据采集、清洗、整合等工作；3.负责大数据平台文本挖掘分析等工作；4.负责BI及报表开发。任职要求：1、深厚的Java功底，多年的并发编程经验；2、参与过分布式高性能服务的设计开发过程，有大规模分布式系统的实践经验；3、熟悉HDFS/HBase/Hive/MapReduce/Storm/Spark等相关技术,有 MapReduce 程序的实战开发经验；4、熟悉Hadoop运行监控及调优技术；5、熟悉常见存储技术（Sqlserver ,Oracle, Mysql, NosqlDB、Redis、ElasticSearch），WebService/WebAPI（SOAP/json）；6、熟悉Scala语言优先；7、计算机、软件工程及相关专业本科或以上学历，1年以上相关项目开发经验。\n",
      "['大数据开发工程师'] ['1-2.5万/月'] ['宝德融资租赁（上海）有限公司'] ['民营公司| 1000-5000人| 金融/投资/证券 租赁服务'] ['上班地址 : 福山路388号越秀大厦308'] ['上海-浦东新区'] ['3-4年工作经验'] ['本科'] ['2人'] ['2019-02-22'] 岗位职责：1、负责大数据平台的搭建、发布部署及相关维护工作；2、负责大数据平台和集群的预警和监控，搭建监控机制以及及时发现集群问题，持续提升系统稳定性3、跟进并处理系统事件，对系统问题及故障解决跟踪优化，负责服务状况与服务质量报告，不断提升集群服务质量；4、梳理优化业务使用集群的流程和规范，使集群使用在资源利用、质量等方面均达到较高水5、日常跟踪业界技术发展动态，并结合业务发展需求，研究引入新技术。任职要求：1、3年以上hadoop集群使用经验；熟悉hadoop相关组件的原理，具备调优和性能优化能力。组件包含不限于：Hadoop/Impala/Hive/Spark/flink/storm/kylin 等等；2、有实际踩坑经历, 对于相关组件的版本跟进, 补丁跟踪, bug追踪等有相关经验；3、熟悉计算机网络，精通linux，熟悉shell、perl、java、scala或python其中两种以上编程语言；4、实际处理过各种集群在线版本升级, 数据迁移, 集群扩容, 稳定性监控等工作；5、熟悉主流数据库技术，熟悉mysql和pg优先，熟悉常用的ETL工具，kettle优先；6、积极主动、学习能力强、沟通能力强、肯吃苦耐劳。\n",
      "['大数据开发工程师'] ['3-6万/月'] ['北京恩穗企业咨询有限责任公司'] ['民营公司| 少于50人| 专业服务(咨询、人力资源、财会)'] ['上班地址 : 星创科技广场'] ['上海-浦东新区'] ['3-4年工作经验'] ['本科'] ['2人'] ['2019-02-22'] 工作职责： 1. 负责基于Hadoop开源系统的大数据平台设计、开发、维护。 2. 开发统一平台，负责任务调度、资源分配、抽象元数据、自动优化、监控报警、等等。 职位要求： 1. 本科及以上学历，3年以上大数据平台研发经验。 2. 具有扎实的编程功底，熟悉常用的算法和数据结构，掌握Java/Python/Scala/Golang等一种以上语言的开发能力。 3. 熟悉Linux系统， 精通一门 脚本语言(Shell/Perl/Python等) 4. 熟悉开源分布式计算/存储相关技术，包括Hadoop、HBase、Hive、Spark、Presto、Kafka、Cassandra、ES、Flink、K8S等。 5. 独立，负责，团队沟通协作，技术意识，自驱驱他。\n",
      "['大数据开发工程师'] ['1-2万/月'] ['杭州小桃微集网络科技有限公司'] ['民营公司| 50-150人| 互联网/电子商务'] ['上班地址 : 高德置地中心1号楼35F'] ['杭州-江干区'] ['3-4年工作经验'] ['本科'] ['1人'] ['2019-02-22'] 岗位要求：1、负责公司内数据分析需求的开发工作，及相关沟通；2、负责大数据平台系统的建设管理工作。任职要求：1、3年以上大数据软件开发相关从业经验，本科或以上学历，计算机、软件工程等相关专业；2 、掌握J2EE技术，熟悉常用算法和数据结构，熟悉网络编程、多线程编程技术,理解操作系统原理；熟练使用关系型数据库及SQL（如：ORACLE、MYSQL等）；3 、熟悉HDFS/HBase/Hive/MapReduce/Storm/Spark等相关技术；4、具备MapReduce、Sqoop、Flume、Kafka、Redis、Storm、Spark中两种以上工具的开发和实施经验，有Spark 程序实战开发者优先；有数据挖掘、机器学习、数据仓库或BI相关经验优先；5、较强的责任心；良好的敬业精神和团队协作精神；较强的沟通协调能力和学习能力；能够承受较大的工作强度和工作压力。工作地点：杭州市江干区钱江新城高德置地中心北塔35F地铁站：4号线市民中心E出口\n",
      "['资深数据开发工程师 （西安)'] ['1.5-2万/月'] ['杭州数云信息技术有限公司'] ['民营公司| 150-500人| 互联网/电子商务 计算机软件'] ['上班地址 : 高新三路人保大厦1807室'] ['西安-雁塔区'] ['5-7年工作经验'] ['大专'] ['2人'] ['2019-02-22'] 职位描述：  1.负责离线计算平台的开发和维护工作；  2.负责HBase/TiDB的开发与维护工作；  3.负责Spark、Flink开发维护工作；  4.参与数据平台的设计开发，满足业务方对于实时数据的需求。  5.深入理解数据业务，分析用户需求，能够从用户角度推动业务发展，提升公司数据应用能力。     资格要求：  1.5年以上数据分析领域开发经验，熟悉Java、Scala/Go的一种；  2.对数据库系统或分布式系统的原理和架构有较好的了解；  3.优秀学习能力、发现和解决问题能力，良好的沟通能力和团队意识。  加分项：  1.熟悉Hadoop生态，参加过开源项目；  2.熟悉Hive、Spark、HDFS、HBase、TiDB、Kafka中至少两种产品的实现细节,并应用开发；  3.有数据库/数据治理产品的开发和运维经验。  4.以上技术栈能够很深入应用或精通某一种也可以，如精通Flink或精通Spark之一即可；\n"
     ]
    },
    {
     "name": "stdout",
     "output_type": "stream",
     "text": [
      "['大数据开发工程师'] ['0.8-1.5万/月'] ['安徽之达大数据研究院有限公司'] ['民营公司| 150-500人| 计算机服务(系统、数据服务、维修) 计算机软件'] ['上班地址 : 合肥市包河区兰州路88号安徽青年电子商务产业园A、B座9层'] ['合肥-包河区'] ['1年工作经验'] ['大专'] ['3人'] ['2019-02-22'] 岗位职责：1、负责大数据应用平台底层框架的整体架构设计，分析和结合公司实际业务情况进行技术选型及大数据战略规划； 2、搭建分布式的海量数据处理平台，提取关键特征，建立数据模型，提升数据质量； 3、支撑大数据系统运行，建立数据分析/数据挖掘模型，指导产品日常运营； 4、负责架构优化及系统关键模块的设计，协助解决技术难题； 5、负责新技术的调研，推广与应用。岗位要求：1、计算机、电子、自动化等理工科专业背景，专科及以上学历2、掌握Java或Python，同时至少掌握C/C++中一种开发语言3、算法基础扎实，熟悉常见的数据结构，深入理解分布式算法和以上提到的分布式系统； 4、有较强的学习能力、沟通协调能力，责任心强；具备良好的职业素养及团队合作精神。晋升机制：大数据开发工程师—项目经理—项目总监\n",
      "['大数据开发工程师'] ['1-2.5万/月'] ['上海高重信息科技有限公司'] ['民营公司| 50-150人| 计算机软件 计算机服务(系统、数据服务、维修)'] ['上班地址 : 滨湖区太湖新城金融一街平安财富中心1005室'] ['无锡-滨湖区'] ['3-4年工作经验'] ['本科'] ['3人'] ['2019-02-22'] 工作职责：1、图像数据快速存储及检索的开发和优化；2、大数据平台的设计和构建职位要求：1、本科及以上学历，计算机、数学等相关专业；2、至少能熟练运用C、C++、Java等一种编程语言；3、有大数据研发经验，有faiss、elasticsearch、spark、openstack、redis、kafka等经验者优先；4、有大数据架构设计经验者优先；5、责任心强，有团队合作精神，乐于接受挑战\n",
      "['大数据开发工程师（久其智通）'] ['1-1.5万/月'] ['北京久其软件股份有限公司'] ['上市公司| 1000-5000人| 计算机软件'] ['上班地址 : 北京市西直门国英一号楼'] ['北京-西城区'] ['本科'] [] ['1人'] ['2019-02-22'] 岗位描述：1.负责大数据产品模块设计及开发，撰写技术文档。 岗位要求：1、本科及以上学历，计算机或相关专业；2、精通Java/Python/SQL/SHELL等常用语言，3、对数据结构和算法设计有较为深刻的理解；4、对hadoop、hive、spark等工具和平台有较丰富的实践经验5、工作积极主动，学习能力强和抗压能力有一定要求；6、有1~3年的相关工作经验 加分项：1、熟悉Go、Scala语言开发者优先；2、有分布式、高并发开发经验者优先；                                                        3、热衷开源技术，在github等开源平台上有代码贡献者优先；\n",
      "['大数据开发工程师'] ['1-1.5万/月'] ['上海爱数信息技术股份有限公司'] ['民营公司| 500-1000人| 计算机软件 计算机服务(系统、数据服务、维修)'] ['上班地址 : 长沙市高新区麓谷大道627号长海创业基地B1栋6楼西侧爱数'] ['长沙-岳麓区'] "
     ]
    },
    {
     "data": {
      "text/html": [
       "<b>limit_output extension: Maximum message size of 10000 exceeded with 10308 characters</b>"
      ]
     },
     "metadata": {},
     "output_type": "display_data"
    },
    {
     "ename": "SSLError",
     "evalue": "HTTPSConnectionPool(host='jobs.51job.com', port=443): Max retries exceeded with url: /fuzhou-glq/110026921.html?s=01&t=0 (Caused by SSLError(SSLError(\"bad handshake: SysCallError(10054, 'WSAECONNRESET')\")))",
     "output_type": "error",
     "traceback": [
      "\u001b[1;31m---------------------------------------------------------------------------\u001b[0m",
      "\u001b[1;31mSysCallError\u001b[0m                              Traceback (most recent call last)",
      "\u001b[1;32mD:\\Anaconda\\lib\\site-packages\\urllib3\\contrib\\pyopenssl.py\u001b[0m in \u001b[0;36mwrap_socket\u001b[1;34m(self, sock, server_side, do_handshake_on_connect, suppress_ragged_eofs, server_hostname)\u001b[0m\n\u001b[0;32m    452\u001b[0m             \u001b[1;32mtry\u001b[0m\u001b[1;33m:\u001b[0m\u001b[1;33m\u001b[0m\u001b[1;33m\u001b[0m\u001b[0m\n\u001b[1;32m--> 453\u001b[1;33m                 \u001b[0mcnx\u001b[0m\u001b[1;33m.\u001b[0m\u001b[0mdo_handshake\u001b[0m\u001b[1;33m(\u001b[0m\u001b[1;33m)\u001b[0m\u001b[1;33m\u001b[0m\u001b[1;33m\u001b[0m\u001b[0m\n\u001b[0m\u001b[0;32m    454\u001b[0m             \u001b[1;32mexcept\u001b[0m \u001b[0mOpenSSL\u001b[0m\u001b[1;33m.\u001b[0m\u001b[0mSSL\u001b[0m\u001b[1;33m.\u001b[0m\u001b[0mWantReadError\u001b[0m\u001b[1;33m:\u001b[0m\u001b[1;33m\u001b[0m\u001b[1;33m\u001b[0m\u001b[0m\n",
      "\u001b[1;32mD:\\Anaconda\\lib\\site-packages\\OpenSSL\\SSL.py\u001b[0m in \u001b[0;36mdo_handshake\u001b[1;34m(self)\u001b[0m\n\u001b[0;32m   1906\u001b[0m         \u001b[0mresult\u001b[0m \u001b[1;33m=\u001b[0m \u001b[0m_lib\u001b[0m\u001b[1;33m.\u001b[0m\u001b[0mSSL_do_handshake\u001b[0m\u001b[1;33m(\u001b[0m\u001b[0mself\u001b[0m\u001b[1;33m.\u001b[0m\u001b[0m_ssl\u001b[0m\u001b[1;33m)\u001b[0m\u001b[1;33m\u001b[0m\u001b[1;33m\u001b[0m\u001b[0m\n\u001b[1;32m-> 1907\u001b[1;33m         \u001b[0mself\u001b[0m\u001b[1;33m.\u001b[0m\u001b[0m_raise_ssl_error\u001b[0m\u001b[1;33m(\u001b[0m\u001b[0mself\u001b[0m\u001b[1;33m.\u001b[0m\u001b[0m_ssl\u001b[0m\u001b[1;33m,\u001b[0m \u001b[0mresult\u001b[0m\u001b[1;33m)\u001b[0m\u001b[1;33m\u001b[0m\u001b[1;33m\u001b[0m\u001b[0m\n\u001b[0m\u001b[0;32m   1908\u001b[0m \u001b[1;33m\u001b[0m\u001b[0m\n",
      "\u001b[1;32mD:\\Anaconda\\lib\\site-packages\\OpenSSL\\SSL.py\u001b[0m in \u001b[0;36m_raise_ssl_error\u001b[1;34m(self, ssl, result)\u001b[0m\n\u001b[0;32m   1630\u001b[0m                     \u001b[1;32mif\u001b[0m \u001b[0merrno\u001b[0m \u001b[1;33m!=\u001b[0m \u001b[1;36m0\u001b[0m\u001b[1;33m:\u001b[0m\u001b[1;33m\u001b[0m\u001b[1;33m\u001b[0m\u001b[0m\n\u001b[1;32m-> 1631\u001b[1;33m                         \u001b[1;32mraise\u001b[0m \u001b[0mSysCallError\u001b[0m\u001b[1;33m(\u001b[0m\u001b[0merrno\u001b[0m\u001b[1;33m,\u001b[0m \u001b[0merrorcode\u001b[0m\u001b[1;33m.\u001b[0m\u001b[0mget\u001b[0m\u001b[1;33m(\u001b[0m\u001b[0merrno\u001b[0m\u001b[1;33m)\u001b[0m\u001b[1;33m)\u001b[0m\u001b[1;33m\u001b[0m\u001b[1;33m\u001b[0m\u001b[0m\n\u001b[0m\u001b[0;32m   1632\u001b[0m                 \u001b[1;32mraise\u001b[0m \u001b[0mSysCallError\u001b[0m\u001b[1;33m(\u001b[0m\u001b[1;33m-\u001b[0m\u001b[1;36m1\u001b[0m\u001b[1;33m,\u001b[0m \u001b[1;34m\"Unexpected EOF\"\u001b[0m\u001b[1;33m)\u001b[0m\u001b[1;33m\u001b[0m\u001b[1;33m\u001b[0m\u001b[0m\n",
      "\u001b[1;31mSysCallError\u001b[0m: (10054, 'WSAECONNRESET')",
      "\nDuring handling of the above exception, another exception occurred:\n",
      "\u001b[1;31mSSLError\u001b[0m                                  Traceback (most recent call last)",
      "\u001b[1;32mD:\\Anaconda\\lib\\site-packages\\urllib3\\connectionpool.py\u001b[0m in \u001b[0;36murlopen\u001b[1;34m(self, method, url, body, headers, retries, redirect, assert_same_host, timeout, pool_timeout, release_conn, chunked, body_pos, **response_kw)\u001b[0m\n\u001b[0;32m    599\u001b[0m                                                   \u001b[0mbody\u001b[0m\u001b[1;33m=\u001b[0m\u001b[0mbody\u001b[0m\u001b[1;33m,\u001b[0m \u001b[0mheaders\u001b[0m\u001b[1;33m=\u001b[0m\u001b[0mheaders\u001b[0m\u001b[1;33m,\u001b[0m\u001b[1;33m\u001b[0m\u001b[1;33m\u001b[0m\u001b[0m\n\u001b[1;32m--> 600\u001b[1;33m                                                   chunked=chunked)\n\u001b[0m\u001b[0;32m    601\u001b[0m \u001b[1;33m\u001b[0m\u001b[0m\n",
      "\u001b[1;32mD:\\Anaconda\\lib\\site-packages\\urllib3\\connectionpool.py\u001b[0m in \u001b[0;36m_make_request\u001b[1;34m(self, conn, method, url, timeout, chunked, **httplib_request_kw)\u001b[0m\n\u001b[0;32m    342\u001b[0m         \u001b[1;32mtry\u001b[0m\u001b[1;33m:\u001b[0m\u001b[1;33m\u001b[0m\u001b[1;33m\u001b[0m\u001b[0m\n\u001b[1;32m--> 343\u001b[1;33m             \u001b[0mself\u001b[0m\u001b[1;33m.\u001b[0m\u001b[0m_validate_conn\u001b[0m\u001b[1;33m(\u001b[0m\u001b[0mconn\u001b[0m\u001b[1;33m)\u001b[0m\u001b[1;33m\u001b[0m\u001b[1;33m\u001b[0m\u001b[0m\n\u001b[0m\u001b[0;32m    344\u001b[0m         \u001b[1;32mexcept\u001b[0m \u001b[1;33m(\u001b[0m\u001b[0mSocketTimeout\u001b[0m\u001b[1;33m,\u001b[0m \u001b[0mBaseSSLError\u001b[0m\u001b[1;33m)\u001b[0m \u001b[1;32mas\u001b[0m \u001b[0me\u001b[0m\u001b[1;33m:\u001b[0m\u001b[1;33m\u001b[0m\u001b[1;33m\u001b[0m\u001b[0m\n",
      "\u001b[1;32mD:\\Anaconda\\lib\\site-packages\\urllib3\\connectionpool.py\u001b[0m in \u001b[0;36m_validate_conn\u001b[1;34m(self, conn)\u001b[0m\n\u001b[0;32m    838\u001b[0m         \u001b[1;32mif\u001b[0m \u001b[1;32mnot\u001b[0m \u001b[0mgetattr\u001b[0m\u001b[1;33m(\u001b[0m\u001b[0mconn\u001b[0m\u001b[1;33m,\u001b[0m \u001b[1;34m'sock'\u001b[0m\u001b[1;33m,\u001b[0m \u001b[1;32mNone\u001b[0m\u001b[1;33m)\u001b[0m\u001b[1;33m:\u001b[0m  \u001b[1;31m# AppEngine might not have  `.sock`\u001b[0m\u001b[1;33m\u001b[0m\u001b[1;33m\u001b[0m\u001b[0m\n\u001b[1;32m--> 839\u001b[1;33m             \u001b[0mconn\u001b[0m\u001b[1;33m.\u001b[0m\u001b[0mconnect\u001b[0m\u001b[1;33m(\u001b[0m\u001b[1;33m)\u001b[0m\u001b[1;33m\u001b[0m\u001b[1;33m\u001b[0m\u001b[0m\n\u001b[0m\u001b[0;32m    840\u001b[0m \u001b[1;33m\u001b[0m\u001b[0m\n",
      "\u001b[1;32mD:\\Anaconda\\lib\\site-packages\\urllib3\\connection.py\u001b[0m in \u001b[0;36mconnect\u001b[1;34m(self)\u001b[0m\n\u001b[0;32m    343\u001b[0m             \u001b[0mserver_hostname\u001b[0m\u001b[1;33m=\u001b[0m\u001b[0mserver_hostname\u001b[0m\u001b[1;33m,\u001b[0m\u001b[1;33m\u001b[0m\u001b[1;33m\u001b[0m\u001b[0m\n\u001b[1;32m--> 344\u001b[1;33m             ssl_context=context)\n\u001b[0m\u001b[0;32m    345\u001b[0m \u001b[1;33m\u001b[0m\u001b[0m\n",
      "\u001b[1;32mD:\\Anaconda\\lib\\site-packages\\urllib3\\util\\ssl_.py\u001b[0m in \u001b[0;36mssl_wrap_socket\u001b[1;34m(sock, keyfile, certfile, cert_reqs, ca_certs, server_hostname, ssl_version, ciphers, ssl_context, ca_cert_dir)\u001b[0m\n\u001b[0;32m    343\u001b[0m         \u001b[1;32mif\u001b[0m \u001b[0mHAS_SNI\u001b[0m \u001b[1;32mand\u001b[0m \u001b[0mserver_hostname\u001b[0m \u001b[1;32mis\u001b[0m \u001b[1;32mnot\u001b[0m \u001b[1;32mNone\u001b[0m\u001b[1;33m:\u001b[0m\u001b[1;33m\u001b[0m\u001b[1;33m\u001b[0m\u001b[0m\n\u001b[1;32m--> 344\u001b[1;33m             \u001b[1;32mreturn\u001b[0m \u001b[0mcontext\u001b[0m\u001b[1;33m.\u001b[0m\u001b[0mwrap_socket\u001b[0m\u001b[1;33m(\u001b[0m\u001b[0msock\u001b[0m\u001b[1;33m,\u001b[0m \u001b[0mserver_hostname\u001b[0m\u001b[1;33m=\u001b[0m\u001b[0mserver_hostname\u001b[0m\u001b[1;33m)\u001b[0m\u001b[1;33m\u001b[0m\u001b[1;33m\u001b[0m\u001b[0m\n\u001b[0m\u001b[0;32m    345\u001b[0m \u001b[1;33m\u001b[0m\u001b[0m\n",
      "\u001b[1;32mD:\\Anaconda\\lib\\site-packages\\urllib3\\contrib\\pyopenssl.py\u001b[0m in \u001b[0;36mwrap_socket\u001b[1;34m(self, sock, server_side, do_handshake_on_connect, suppress_ragged_eofs, server_hostname)\u001b[0m\n\u001b[0;32m    458\u001b[0m             \u001b[1;32mexcept\u001b[0m \u001b[0mOpenSSL\u001b[0m\u001b[1;33m.\u001b[0m\u001b[0mSSL\u001b[0m\u001b[1;33m.\u001b[0m\u001b[0mError\u001b[0m \u001b[1;32mas\u001b[0m \u001b[0me\u001b[0m\u001b[1;33m:\u001b[0m\u001b[1;33m\u001b[0m\u001b[1;33m\u001b[0m\u001b[0m\n\u001b[1;32m--> 459\u001b[1;33m                 \u001b[1;32mraise\u001b[0m \u001b[0mssl\u001b[0m\u001b[1;33m.\u001b[0m\u001b[0mSSLError\u001b[0m\u001b[1;33m(\u001b[0m\u001b[1;34m'bad handshake: %r'\u001b[0m \u001b[1;33m%\u001b[0m \u001b[0me\u001b[0m\u001b[1;33m)\u001b[0m\u001b[1;33m\u001b[0m\u001b[1;33m\u001b[0m\u001b[0m\n\u001b[0m\u001b[0;32m    460\u001b[0m             \u001b[1;32mbreak\u001b[0m\u001b[1;33m\u001b[0m\u001b[1;33m\u001b[0m\u001b[0m\n",
      "\u001b[1;31mSSLError\u001b[0m: (\"bad handshake: SysCallError(10054, 'WSAECONNRESET')\",)",
      "\nDuring handling of the above exception, another exception occurred:\n",
      "\u001b[1;31mMaxRetryError\u001b[0m                             Traceback (most recent call last)",
      "\u001b[1;32mD:\\Anaconda\\lib\\site-packages\\requests\\adapters.py\u001b[0m in \u001b[0;36msend\u001b[1;34m(self, request, stream, timeout, verify, cert, proxies)\u001b[0m\n\u001b[0;32m    448\u001b[0m                     \u001b[0mretries\u001b[0m\u001b[1;33m=\u001b[0m\u001b[0mself\u001b[0m\u001b[1;33m.\u001b[0m\u001b[0mmax_retries\u001b[0m\u001b[1;33m,\u001b[0m\u001b[1;33m\u001b[0m\u001b[1;33m\u001b[0m\u001b[0m\n\u001b[1;32m--> 449\u001b[1;33m                     \u001b[0mtimeout\u001b[0m\u001b[1;33m=\u001b[0m\u001b[0mtimeout\u001b[0m\u001b[1;33m\u001b[0m\u001b[1;33m\u001b[0m\u001b[0m\n\u001b[0m\u001b[0;32m    450\u001b[0m                 )\n",
      "\u001b[1;32mD:\\Anaconda\\lib\\site-packages\\urllib3\\connectionpool.py\u001b[0m in \u001b[0;36murlopen\u001b[1;34m(self, method, url, body, headers, retries, redirect, assert_same_host, timeout, pool_timeout, release_conn, chunked, body_pos, **response_kw)\u001b[0m\n\u001b[0;32m    637\u001b[0m             retries = retries.increment(method, url, error=e, _pool=self,\n\u001b[1;32m--> 638\u001b[1;33m                                         _stacktrace=sys.exc_info()[2])\n\u001b[0m\u001b[0;32m    639\u001b[0m             \u001b[0mretries\u001b[0m\u001b[1;33m.\u001b[0m\u001b[0msleep\u001b[0m\u001b[1;33m(\u001b[0m\u001b[1;33m)\u001b[0m\u001b[1;33m\u001b[0m\u001b[1;33m\u001b[0m\u001b[0m\n",
      "\u001b[1;32mD:\\Anaconda\\lib\\site-packages\\urllib3\\util\\retry.py\u001b[0m in \u001b[0;36mincrement\u001b[1;34m(self, method, url, response, error, _pool, _stacktrace)\u001b[0m\n\u001b[0;32m    397\u001b[0m         \u001b[1;32mif\u001b[0m \u001b[0mnew_retry\u001b[0m\u001b[1;33m.\u001b[0m\u001b[0mis_exhausted\u001b[0m\u001b[1;33m(\u001b[0m\u001b[1;33m)\u001b[0m\u001b[1;33m:\u001b[0m\u001b[1;33m\u001b[0m\u001b[1;33m\u001b[0m\u001b[0m\n\u001b[1;32m--> 398\u001b[1;33m             \u001b[1;32mraise\u001b[0m \u001b[0mMaxRetryError\u001b[0m\u001b[1;33m(\u001b[0m\u001b[0m_pool\u001b[0m\u001b[1;33m,\u001b[0m \u001b[0murl\u001b[0m\u001b[1;33m,\u001b[0m \u001b[0merror\u001b[0m \u001b[1;32mor\u001b[0m \u001b[0mResponseError\u001b[0m\u001b[1;33m(\u001b[0m\u001b[0mcause\u001b[0m\u001b[1;33m)\u001b[0m\u001b[1;33m)\u001b[0m\u001b[1;33m\u001b[0m\u001b[1;33m\u001b[0m\u001b[0m\n\u001b[0m\u001b[0;32m    399\u001b[0m \u001b[1;33m\u001b[0m\u001b[0m\n",
      "\u001b[1;31mMaxRetryError\u001b[0m: HTTPSConnectionPool(host='jobs.51job.com', port=443): Max retries exceeded with url: /fuzhou-glq/110026921.html?s=01&t=0 (Caused by SSLError(SSLError(\"bad handshake: SysCallError(10054, 'WSAECONNRESET')\")))",
      "\nDuring handling of the above exception, another exception occurred:\n",
      "\u001b[1;31mSSLError\u001b[0m                                  Traceback (most recent call last)",
      "\u001b[1;32m<ipython-input-5-1ea79dfc22c2>\u001b[0m in \u001b[0;36m<module>\u001b[1;34m\u001b[0m\n\u001b[0;32m      3\u001b[0m     \u001b[0murls\u001b[0m \u001b[1;33m=\u001b[0m \u001b[1;33m[\u001b[0m\u001b[1;34m'https://search.51job.com/list/000000,000000,0000,00,9,99,'\u001b[0m\u001b[1;33m+\u001b[0m\u001b[0mkey\u001b[0m\u001b[1;33m+\u001b[0m\u001b[1;34m',2,{}.html?lang=c&stype=1&postchannel=0000&workyear=99&cotype=99&degreefrom=99&jobterm=99&companysize=99&lonlat=0%2C0&radius=-1&ord_field=0&confirmdate=9&fromType=&dibiaoid=0&address=&line=&specialarea=00&from=&welfare='\u001b[0m\u001b[1;33m.\u001b[0m\u001b[0mformat\u001b[0m\u001b[1;33m(\u001b[0m\u001b[0mi\u001b[0m\u001b[1;33m)\u001b[0m \u001b[1;32mfor\u001b[0m \u001b[0mi\u001b[0m \u001b[1;32min\u001b[0m \u001b[0mrange\u001b[0m\u001b[1;33m(\u001b[0m\u001b[1;36m1\u001b[0m\u001b[1;33m,\u001b[0m\u001b[1;36m25\u001b[0m\u001b[1;33m)\u001b[0m\u001b[1;33m]\u001b[0m\u001b[1;33m\u001b[0m\u001b[1;33m\u001b[0m\u001b[0m\n\u001b[0;32m      4\u001b[0m     \u001b[1;32mfor\u001b[0m \u001b[0murl\u001b[0m \u001b[1;32min\u001b[0m \u001b[0murls\u001b[0m\u001b[1;33m:\u001b[0m\u001b[1;33m\u001b[0m\u001b[1;33m\u001b[0m\u001b[0m\n\u001b[1;32m----> 5\u001b[1;33m         \u001b[0mgetUrl\u001b[0m\u001b[1;33m(\u001b[0m\u001b[0murl\u001b[0m\u001b[1;33m)\u001b[0m\u001b[1;33m\u001b[0m\u001b[1;33m\u001b[0m\u001b[0m\n\u001b[0m",
      "\u001b[1;32m<ipython-input-4-1a083747e32c>\u001b[0m in \u001b[0;36mgetUrl\u001b[1;34m(url)\u001b[0m\n\u001b[0;32m     10\u001b[0m         \u001b[0mprint\u001b[0m\u001b[1;33m(\u001b[0m\u001b[0murls\u001b[0m\u001b[1;33m)\u001b[0m\u001b[1;33m\u001b[0m\u001b[1;33m\u001b[0m\u001b[0m\n\u001b[0;32m     11\u001b[0m         \u001b[1;32mfor\u001b[0m \u001b[0murl\u001b[0m \u001b[1;32min\u001b[0m \u001b[0murls\u001b[0m\u001b[1;33m:\u001b[0m\u001b[1;33m\u001b[0m\u001b[1;33m\u001b[0m\u001b[0m\n\u001b[1;32m---> 12\u001b[1;33m             \u001b[0mparseInfo\u001b[0m\u001b[1;33m(\u001b[0m\u001b[0murl\u001b[0m\u001b[1;33m)\u001b[0m\u001b[1;33m\u001b[0m\u001b[1;33m\u001b[0m\u001b[0m\n\u001b[0m\u001b[0;32m     13\u001b[0m             \u001b[0mtime\u001b[0m\u001b[1;33m.\u001b[0m\u001b[0msleep\u001b[0m\u001b[1;33m(\u001b[0m\u001b[0mrandom\u001b[0m\u001b[1;33m.\u001b[0m\u001b[0mrandrange\u001b[0m\u001b[1;33m(\u001b[0m\u001b[1;36m1\u001b[0m\u001b[1;33m,\u001b[0m \u001b[1;36m4\u001b[0m\u001b[1;33m)\u001b[0m\u001b[1;33m)\u001b[0m\u001b[1;33m\u001b[0m\u001b[1;33m\u001b[0m\u001b[0m\n",
      "\u001b[1;32m<ipython-input-3-db5bbada9c88>\u001b[0m in \u001b[0;36mparseInfo\u001b[1;34m(url)\u001b[0m\n\u001b[0;32m      8\u001b[0m         \u001b[1;34m'User-Agent'\u001b[0m\u001b[1;33m:\u001b[0m \u001b[1;34m'Opera/9.80 (Android 2.3.4; Linux; Opera Mobi/ADR-1301071546) Presto/2.11.355 Version/12.10'\u001b[0m\u001b[1;33m\u001b[0m\u001b[1;33m\u001b[0m\u001b[0m\n\u001b[0;32m      9\u001b[0m     }\n\u001b[1;32m---> 10\u001b[1;33m     \u001b[0mres\u001b[0m \u001b[1;33m=\u001b[0m \u001b[0mrequests\u001b[0m\u001b[1;33m.\u001b[0m\u001b[0mget\u001b[0m\u001b[1;33m(\u001b[0m\u001b[0murl\u001b[0m\u001b[1;33m,\u001b[0m \u001b[0mheaders\u001b[0m\u001b[1;33m=\u001b[0m\u001b[0mheaders\u001b[0m\u001b[1;33m)\u001b[0m\u001b[1;33m\u001b[0m\u001b[1;33m\u001b[0m\u001b[0m\n\u001b[0m\u001b[0;32m     11\u001b[0m     \u001b[0mres\u001b[0m\u001b[1;33m.\u001b[0m\u001b[0mencoding\u001b[0m \u001b[1;33m=\u001b[0m \u001b[1;34m'utf-8'\u001b[0m\u001b[1;33m\u001b[0m\u001b[1;33m\u001b[0m\u001b[0m\n\u001b[0;32m     12\u001b[0m \u001b[1;33m\u001b[0m\u001b[0m\n",
      "\u001b[1;32mD:\\Anaconda\\lib\\site-packages\\requests\\api.py\u001b[0m in \u001b[0;36mget\u001b[1;34m(url, params, **kwargs)\u001b[0m\n\u001b[0;32m     73\u001b[0m \u001b[1;33m\u001b[0m\u001b[0m\n\u001b[0;32m     74\u001b[0m     \u001b[0mkwargs\u001b[0m\u001b[1;33m.\u001b[0m\u001b[0msetdefault\u001b[0m\u001b[1;33m(\u001b[0m\u001b[1;34m'allow_redirects'\u001b[0m\u001b[1;33m,\u001b[0m \u001b[1;32mTrue\u001b[0m\u001b[1;33m)\u001b[0m\u001b[1;33m\u001b[0m\u001b[1;33m\u001b[0m\u001b[0m\n\u001b[1;32m---> 75\u001b[1;33m     \u001b[1;32mreturn\u001b[0m \u001b[0mrequest\u001b[0m\u001b[1;33m(\u001b[0m\u001b[1;34m'get'\u001b[0m\u001b[1;33m,\u001b[0m \u001b[0murl\u001b[0m\u001b[1;33m,\u001b[0m \u001b[0mparams\u001b[0m\u001b[1;33m=\u001b[0m\u001b[0mparams\u001b[0m\u001b[1;33m,\u001b[0m \u001b[1;33m**\u001b[0m\u001b[0mkwargs\u001b[0m\u001b[1;33m)\u001b[0m\u001b[1;33m\u001b[0m\u001b[1;33m\u001b[0m\u001b[0m\n\u001b[0m\u001b[0;32m     76\u001b[0m \u001b[1;33m\u001b[0m\u001b[0m\n\u001b[0;32m     77\u001b[0m \u001b[1;33m\u001b[0m\u001b[0m\n",
      "\u001b[1;32mD:\\Anaconda\\lib\\site-packages\\requests\\api.py\u001b[0m in \u001b[0;36mrequest\u001b[1;34m(method, url, **kwargs)\u001b[0m\n\u001b[0;32m     58\u001b[0m     \u001b[1;31m# cases, and look like a memory leak in others.\u001b[0m\u001b[1;33m\u001b[0m\u001b[1;33m\u001b[0m\u001b[1;33m\u001b[0m\u001b[0m\n\u001b[0;32m     59\u001b[0m     \u001b[1;32mwith\u001b[0m \u001b[0msessions\u001b[0m\u001b[1;33m.\u001b[0m\u001b[0mSession\u001b[0m\u001b[1;33m(\u001b[0m\u001b[1;33m)\u001b[0m \u001b[1;32mas\u001b[0m \u001b[0msession\u001b[0m\u001b[1;33m:\u001b[0m\u001b[1;33m\u001b[0m\u001b[1;33m\u001b[0m\u001b[0m\n\u001b[1;32m---> 60\u001b[1;33m         \u001b[1;32mreturn\u001b[0m \u001b[0msession\u001b[0m\u001b[1;33m.\u001b[0m\u001b[0mrequest\u001b[0m\u001b[1;33m(\u001b[0m\u001b[0mmethod\u001b[0m\u001b[1;33m=\u001b[0m\u001b[0mmethod\u001b[0m\u001b[1;33m,\u001b[0m \u001b[0murl\u001b[0m\u001b[1;33m=\u001b[0m\u001b[0murl\u001b[0m\u001b[1;33m,\u001b[0m \u001b[1;33m**\u001b[0m\u001b[0mkwargs\u001b[0m\u001b[1;33m)\u001b[0m\u001b[1;33m\u001b[0m\u001b[1;33m\u001b[0m\u001b[0m\n\u001b[0m\u001b[0;32m     61\u001b[0m \u001b[1;33m\u001b[0m\u001b[0m\n\u001b[0;32m     62\u001b[0m \u001b[1;33m\u001b[0m\u001b[0m\n",
      "\u001b[1;32mD:\\Anaconda\\lib\\site-packages\\requests\\sessions.py\u001b[0m in \u001b[0;36mrequest\u001b[1;34m(self, method, url, params, data, headers, cookies, files, auth, timeout, allow_redirects, proxies, hooks, stream, verify, cert, json)\u001b[0m\n\u001b[0;32m    531\u001b[0m         }\n\u001b[0;32m    532\u001b[0m         \u001b[0msend_kwargs\u001b[0m\u001b[1;33m.\u001b[0m\u001b[0mupdate\u001b[0m\u001b[1;33m(\u001b[0m\u001b[0msettings\u001b[0m\u001b[1;33m)\u001b[0m\u001b[1;33m\u001b[0m\u001b[1;33m\u001b[0m\u001b[0m\n\u001b[1;32m--> 533\u001b[1;33m         \u001b[0mresp\u001b[0m \u001b[1;33m=\u001b[0m \u001b[0mself\u001b[0m\u001b[1;33m.\u001b[0m\u001b[0msend\u001b[0m\u001b[1;33m(\u001b[0m\u001b[0mprep\u001b[0m\u001b[1;33m,\u001b[0m \u001b[1;33m**\u001b[0m\u001b[0msend_kwargs\u001b[0m\u001b[1;33m)\u001b[0m\u001b[1;33m\u001b[0m\u001b[1;33m\u001b[0m\u001b[0m\n\u001b[0m\u001b[0;32m    534\u001b[0m \u001b[1;33m\u001b[0m\u001b[0m\n\u001b[0;32m    535\u001b[0m         \u001b[1;32mreturn\u001b[0m \u001b[0mresp\u001b[0m\u001b[1;33m\u001b[0m\u001b[1;33m\u001b[0m\u001b[0m\n",
      "\u001b[1;32mD:\\Anaconda\\lib\\site-packages\\requests\\sessions.py\u001b[0m in \u001b[0;36msend\u001b[1;34m(self, request, **kwargs)\u001b[0m\n\u001b[0;32m    644\u001b[0m \u001b[1;33m\u001b[0m\u001b[0m\n\u001b[0;32m    645\u001b[0m         \u001b[1;31m# Send the request\u001b[0m\u001b[1;33m\u001b[0m\u001b[1;33m\u001b[0m\u001b[1;33m\u001b[0m\u001b[0m\n\u001b[1;32m--> 646\u001b[1;33m         \u001b[0mr\u001b[0m \u001b[1;33m=\u001b[0m \u001b[0madapter\u001b[0m\u001b[1;33m.\u001b[0m\u001b[0msend\u001b[0m\u001b[1;33m(\u001b[0m\u001b[0mrequest\u001b[0m\u001b[1;33m,\u001b[0m \u001b[1;33m**\u001b[0m\u001b[0mkwargs\u001b[0m\u001b[1;33m)\u001b[0m\u001b[1;33m\u001b[0m\u001b[1;33m\u001b[0m\u001b[0m\n\u001b[0m\u001b[0;32m    647\u001b[0m \u001b[1;33m\u001b[0m\u001b[0m\n\u001b[0;32m    648\u001b[0m         \u001b[1;31m# Total elapsed time of the request (approximately)\u001b[0m\u001b[1;33m\u001b[0m\u001b[1;33m\u001b[0m\u001b[1;33m\u001b[0m\u001b[0m\n",
      "\u001b[1;32mD:\\Anaconda\\lib\\site-packages\\requests\\adapters.py\u001b[0m in \u001b[0;36msend\u001b[1;34m(self, request, stream, timeout, verify, cert, proxies)\u001b[0m\n\u001b[0;32m    512\u001b[0m             \u001b[1;32mif\u001b[0m \u001b[0misinstance\u001b[0m\u001b[1;33m(\u001b[0m\u001b[0me\u001b[0m\u001b[1;33m.\u001b[0m\u001b[0mreason\u001b[0m\u001b[1;33m,\u001b[0m \u001b[0m_SSLError\u001b[0m\u001b[1;33m)\u001b[0m\u001b[1;33m:\u001b[0m\u001b[1;33m\u001b[0m\u001b[1;33m\u001b[0m\u001b[0m\n\u001b[0;32m    513\u001b[0m                 \u001b[1;31m# This branch is for urllib3 v1.22 and later.\u001b[0m\u001b[1;33m\u001b[0m\u001b[1;33m\u001b[0m\u001b[1;33m\u001b[0m\u001b[0m\n\u001b[1;32m--> 514\u001b[1;33m                 \u001b[1;32mraise\u001b[0m \u001b[0mSSLError\u001b[0m\u001b[1;33m(\u001b[0m\u001b[0me\u001b[0m\u001b[1;33m,\u001b[0m \u001b[0mrequest\u001b[0m\u001b[1;33m=\u001b[0m\u001b[0mrequest\u001b[0m\u001b[1;33m)\u001b[0m\u001b[1;33m\u001b[0m\u001b[1;33m\u001b[0m\u001b[0m\n\u001b[0m\u001b[0;32m    515\u001b[0m \u001b[1;33m\u001b[0m\u001b[0m\n\u001b[0;32m    516\u001b[0m             \u001b[1;32mraise\u001b[0m \u001b[0mConnectionError\u001b[0m\u001b[1;33m(\u001b[0m\u001b[0me\u001b[0m\u001b[1;33m,\u001b[0m \u001b[0mrequest\u001b[0m\u001b[1;33m=\u001b[0m\u001b[0mrequest\u001b[0m\u001b[1;33m)\u001b[0m\u001b[1;33m\u001b[0m\u001b[1;33m\u001b[0m\u001b[0m\n",
      "\u001b[1;31mSSLError\u001b[0m: HTTPSConnectionPool(host='jobs.51job.com', port=443): Max retries exceeded with url: /fuzhou-glq/110026921.html?s=01&t=0 (Caused by SSLError(SSLError(\"bad handshake: SysCallError(10054, 'WSAECONNRESET')\")))"
     ]
    }
   ],
   "source": [
    "if __name__ == '__main__':\n",
    "    key = '数据开发'\n",
    "    urls = ['https://search.51job.com/list/000000,000000,0000,00,9,99,'+key+',2,{}.html?lang=c&stype=1&postchannel=0000&workyear=99&cotype=99&degreefrom=99&jobterm=99&companysize=99&lonlat=0%2C0&radius=-1&ord_field=0&confirmdate=9&fromType=&dibiaoid=0&address=&line=&specialarea=00&from=&welfare='.format(i) for i in range(1,25)]\n",
    "    for url in urls:\n",
    "        getUrl(url)"
   ]
  },
  {
   "cell_type": "code",
   "execution_count": null,
   "metadata": {},
   "outputs": [],
   "source": []
  }
 ],
 "metadata": {
  "kernelspec": {
   "display_name": "Python 3",
   "language": "python",
   "name": "python3"
  },
  "language_info": {
   "codemirror_mode": {
    "name": "ipython",
    "version": 3
   },
   "file_extension": ".py",
   "mimetype": "text/x-python",
   "name": "python",
   "nbconvert_exporter": "python",
   "pygments_lexer": "ipython3",
   "version": "3.7.1"
  },
  "varInspector": {
   "cols": {
    "lenName": 16,
    "lenType": 16,
    "lenVar": 40
   },
   "kernels_config": {
    "python": {
     "delete_cmd_postfix": "",
     "delete_cmd_prefix": "del ",
     "library": "var_list.py",
     "varRefreshCmd": "print(var_dic_list())"
    },
    "r": {
     "delete_cmd_postfix": ") ",
     "delete_cmd_prefix": "rm(",
     "library": "var_list.r",
     "varRefreshCmd": "cat(var_dic_list()) "
    }
   },
   "types_to_exclude": [
    "module",
    "function",
    "builtin_function_or_method",
    "instance",
    "_Feature"
   ],
   "window_display": false
  }
 },
 "nbformat": 4,
 "nbformat_minor": 2
}
